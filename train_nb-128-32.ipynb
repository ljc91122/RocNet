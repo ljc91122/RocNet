{
 "cells": [
  {
   "cell_type": "code",
   "execution_count": 3,
   "metadata": {},
   "outputs": [],
   "source": [
    "import time\n",
    "import os\n",
    "import math\n",
    "from time import gmtime, strftime\n",
    "from datetime import datetime\n",
    "import torch\n",
    "from torch import nn\n",
    "from torch.autograd import Variable\n",
    "import torch.utils.data\n",
    "from torchfoldext import FoldExt\n",
    "import util\n",
    "from dynamicplot import DynamicPlot\n",
    "from IPython.core.debugger import set_trace\n",
    "\n",
    "from data import ROctDataset\n",
    "from ROctNetmodel_32 import ROctEncoder\n",
    "from ROctNetmodel_32 import ROctDecoder\n",
    "import ROctNetmodel_32"
   ]
  },
  {
   "cell_type": "code",
   "execution_count": 7,
   "metadata": {},
   "outputs": [
    {
     "name": "stdout",
     "output_type": "stream",
     "text": [
      "Not using CUDA.\n"
     ]
    },
    {
     "name": "stderr",
     "output_type": "stream",
     "text": [
      "/Volumes/One Touch/ROctNet/ROctNet-v11/ROctNetmodel_32.py:79: UserWarning: nn.init.xavier_uniform is now deprecated in favor of nn.init.xavier_uniform_.\n",
      "  m.weight.data = nn.init.xavier_uniform(m.weight.data, gain=nn.init.calculate_gain('relu'))\n",
      "/Volumes/One Touch/ROctNet/ROctNet-v11/ROctNetmodel_32.py:162: UserWarning: nn.init.xavier_uniform is now deprecated in favor of nn.init.xavier_uniform_.\n",
      "  m.weight.data = nn.init.xavier_uniform(m.weight.data, gain=nn.init.calculate_gain('relu'))\n",
      "/Volumes/One Touch/ROctNet/ROctNet-v11/ROctNetmodel_32.py:28: UserWarning: nn.init.xavier_uniform is now deprecated in favor of nn.init.xavier_uniform_.\n",
      "  m.weight.data = nn.init.xavier_uniform(m.weight.data, gain=nn.init.calculate_gain('relu'))\n",
      "/Volumes/One Touch/ROctNet/ROctNet-v11/ROctNetmodel_32.py:450: UserWarning: nn.init.xavier_uniform is now deprecated in favor of nn.init.xavier_uniform_.\n",
      "  m.weight.data = nn.init.xavier_uniform(m.weight.data, gain=nn.init.calculate_gain('relu'))\n",
      "/Volumes/One Touch/ROctNet/ROctNet-v11/ROctNetmodel_32.py:366: UserWarning: nn.init.xavier_uniform is now deprecated in favor of nn.init.xavier_uniform_.\n",
      "  m.weight.data = nn.init.xavier_uniform(m.weight.data, gain=nn.init.calculate_gain('relu'))\n",
      "/Volumes/One Touch/ROctNet/ROctNet-v11/ROctNetmodel_32.py:290: UserWarning: nn.init.xavier_uniform is now deprecated in favor of nn.init.xavier_uniform_.\n",
      "  m.weight.data = nn.init.xavier_uniform(m.weight.data, gain=nn.init.calculate_gain('relu'))\n"
     ]
    }
   ],
   "source": [
    "config = util.get_args()\n",
    "\n",
    "#config.box_code_size = 2744\n",
    "config.feature_size = 80\n",
    "config.hidden_size = 200\n",
    "  \n",
    "config.show_log_every = 1\n",
    "config.save_log = False\n",
    "config.save_log_every = 3\n",
    "config.save_snapshot = True\n",
    "config.save_snapshot_every = 50\n",
    "config.no_plot = False\n",
    "config.no_cuda = True #False if using CUDA\n",
    "config.cuda = not config.no_cuda\n",
    "config.gpu = 1\n",
    "config.data_path = 'data'\n",
    "config.save_path = 'models'\n",
    "\n",
    "\n",
    "config.batch_size = 1\n",
    "config.epochs = 2000\n",
    "incre = 1\n",
    "n_samples = 1\n",
    "\n",
    "# #for memory test\n",
    "# config.batch_size = 50\n",
    "# config.epochs = 2000\n",
    "# incre = 100\n",
    "# n_samples = 100\n",
    "\n",
    "config.cuda = not config.no_cuda\n",
    "if config.gpu<0 and config.cuda:\n",
    "    config.gpu = 1\n",
    "    torch.cuda.set_device(config.gpu)\n",
    "\n",
    "if config.cuda and torch.cuda.is_available():\n",
    "    print(\"Using CUDA on GPU \", config.gpu)\n",
    "else:\n",
    "    print(\"Not using CUDA.\")\n",
    "\n",
    "encoder = ROctEncoder(config)\n",
    "decoder = ROctDecoder(config)"
   ]
  },
  {
   "cell_type": "code",
   "execution_count": 8,
   "metadata": {},
   "outputs": [],
   "source": [
    "def my_collate(batch):\n",
    "    return batch\n",
    "# print(\"Loading data ...... \", flush=True)\n",
    "# roct_data = ROctDataset('/data/juncheng/modelnet40/256_32_vox/train_1',1 , 7512)#7081 4441\n",
    "# #roct_data.trees = roct_data.trees[0:-1:12]\n",
    "# train_iter = torch.utils.data.DataLoader(roct_data, batch_size=config.batch_size, shuffle=True, collate_fn=my_collate)\n",
    "# print(\"DONE\")\n",
    "\n",
    "# len(roct_data.trees)"
   ]
  },
  {
   "cell_type": "code",
   "execution_count": 9,
   "metadata": {},
   "outputs": [],
   "source": [
    "# decoder = torch.load('models/ae_decoder_car_32.pkl')\n",
    "# encoder = torch.load('models/ae_encoder_car_32.pkl')"
   ]
  },
  {
   "cell_type": "code",
   "execution_count": 10,
   "metadata": {},
   "outputs": [],
   "source": [
    "if config.cuda:\n",
    "    encoder.cuda(config.gpu)\n",
    "    decoder.cuda(config.gpu)"
   ]
  },
  {
   "cell_type": "code",
   "execution_count": 11,
   "metadata": {},
   "outputs": [],
   "source": [
    "encoder_opt = torch.optim.Adam(encoder.parameters(), lr=1e-3)\n",
    "decoder_opt = torch.optim.Adam(decoder.parameters(), lr=1e-3)"
   ]
  },
  {
   "cell_type": "code",
   "execution_count": 13,
   "metadata": {
    "scrolled": true
   },
   "outputs": [
    {
     "name": "stdout",
     "output_type": "stream",
     "text": [
      "Start training ...... \n",
      "     Time    Epoch   Chunk  Iteration    Progress(%)  ReconLoss LabelLoss TotalLoss\n"
     ]
    },
    {
     "ename": "AssertionError",
     "evalue": "Torch not compiled with CUDA enabled",
     "output_type": "error",
     "traceback": [
      "\u001b[0;31m---------------------------------------------------------------------------\u001b[0m",
      "\u001b[0;31mAssertionError\u001b[0m                            Traceback (most recent call last)",
      "\u001b[0;32m<ipython-input-13-a66e9381d6fc>\u001b[0m in \u001b[0;36m<module>\u001b[0;34m\u001b[0m\n\u001b[1;32m     51\u001b[0m             \u001b[0;31m# Apply the computations on the encoder model\u001b[0m\u001b[0;34m\u001b[0m\u001b[0;34m\u001b[0m\u001b[0;34m\u001b[0m\u001b[0m\n\u001b[1;32m     52\u001b[0m             \u001b[0;31m#set_trace()\u001b[0m\u001b[0;34m\u001b[0m\u001b[0;34m\u001b[0m\u001b[0;34m\u001b[0m\u001b[0m\n\u001b[0;32m---> 53\u001b[0;31m             \u001b[0menc_fold_nodes\u001b[0m \u001b[0;34m=\u001b[0m \u001b[0menc_fold\u001b[0m\u001b[0;34m.\u001b[0m\u001b[0mapply\u001b[0m\u001b[0;34m(\u001b[0m\u001b[0mencoder\u001b[0m\u001b[0;34m,\u001b[0m \u001b[0;34m[\u001b[0m\u001b[0menc_fold_nodes\u001b[0m\u001b[0;34m]\u001b[0m\u001b[0;34m)\u001b[0m\u001b[0;34m\u001b[0m\u001b[0;34m\u001b[0m\u001b[0m\n\u001b[0m\u001b[1;32m     54\u001b[0m \u001b[0;34m\u001b[0m\u001b[0m\n\u001b[1;32m     55\u001b[0m             \u001b[0;31m# Split into a list of fold nodes per example\u001b[0m\u001b[0;34m\u001b[0m\u001b[0;34m\u001b[0m\u001b[0;34m\u001b[0m\u001b[0m\n",
      "\u001b[0;32m~/opt/anaconda3/lib/python3.7/site-packages/torchfold/torchfold.py\u001b[0m in \u001b[0;36mapply\u001b[0;34m(self, nn, nodes)\u001b[0m\n\u001b[1;32m    163\u001b[0m                 \u001b[0;32melse\u001b[0m\u001b[0;34m:\u001b[0m\u001b[0;34m\u001b[0m\u001b[0;34m\u001b[0m\u001b[0m\n\u001b[1;32m    164\u001b[0m                     \u001b[0marg_size\u001b[0m \u001b[0;34m=\u001b[0m \u001b[0;36m1\u001b[0m\u001b[0;34m\u001b[0m\u001b[0;34m\u001b[0m\u001b[0m\n\u001b[0;32m--> 165\u001b[0;31m                 \u001b[0mres\u001b[0m \u001b[0;34m=\u001b[0m \u001b[0mfunc\u001b[0m\u001b[0;34m(\u001b[0m\u001b[0;34m*\u001b[0m\u001b[0mbatched_args\u001b[0m\u001b[0;34m)\u001b[0m\u001b[0;34m\u001b[0m\u001b[0;34m\u001b[0m\u001b[0m\n\u001b[0m\u001b[1;32m    166\u001b[0m                 \u001b[0mvalues\u001b[0m\u001b[0;34m[\u001b[0m\u001b[0mstep\u001b[0m\u001b[0;34m]\u001b[0m\u001b[0;34m[\u001b[0m\u001b[0mop\u001b[0m\u001b[0;34m]\u001b[0m \u001b[0;34m=\u001b[0m \u001b[0mFold\u001b[0m\u001b[0;34m.\u001b[0m\u001b[0mComputedResult\u001b[0m\u001b[0;34m(\u001b[0m\u001b[0marg_size\u001b[0m\u001b[0;34m,\u001b[0m \u001b[0mres\u001b[0m\u001b[0;34m)\u001b[0m\u001b[0;34m\u001b[0m\u001b[0;34m\u001b[0m\u001b[0m\n\u001b[1;32m    167\u001b[0m         \u001b[0;32mtry\u001b[0m\u001b[0;34m:\u001b[0m\u001b[0;34m\u001b[0m\u001b[0;34m\u001b[0m\u001b[0m\n",
      "\u001b[0;32m/Volumes/One Touch/ROctNet/ROctNet-v11/ROctNetmodel_32.py\u001b[0m in \u001b[0;36mboxEncoder2\u001b[0;34m(self, fea)\u001b[0m\n\u001b[1;32m    226\u001b[0m \u001b[0;34m\u001b[0m\u001b[0m\n\u001b[1;32m    227\u001b[0m     \u001b[0;32mdef\u001b[0m \u001b[0mboxEncoder2\u001b[0m\u001b[0;34m(\u001b[0m\u001b[0mself\u001b[0m\u001b[0;34m,\u001b[0m \u001b[0mfea\u001b[0m\u001b[0;34m)\u001b[0m\u001b[0;34m:\u001b[0m\u001b[0;34m\u001b[0m\u001b[0;34m\u001b[0m\u001b[0m\n\u001b[0;32m--> 228\u001b[0;31m         \u001b[0;32mreturn\u001b[0m \u001b[0mself\u001b[0m\u001b[0;34m.\u001b[0m\u001b[0mbox_encoder2\u001b[0m\u001b[0;34m(\u001b[0m\u001b[0mfea\u001b[0m\u001b[0;34m)\u001b[0m\u001b[0;34m\u001b[0m\u001b[0;34m\u001b[0m\u001b[0m\n\u001b[0m\u001b[1;32m    229\u001b[0m \u001b[0;34m\u001b[0m\u001b[0m\n\u001b[1;32m    230\u001b[0m     \u001b[0;32mdef\u001b[0m \u001b[0madjEncoder1\u001b[0m\u001b[0;34m(\u001b[0m\u001b[0mself\u001b[0m\u001b[0;34m,\u001b[0m \u001b[0mc1\u001b[0m\u001b[0;34m,\u001b[0m\u001b[0mc2\u001b[0m\u001b[0;34m,\u001b[0m\u001b[0mc3\u001b[0m\u001b[0;34m,\u001b[0m\u001b[0mc4\u001b[0m\u001b[0;34m,\u001b[0m\u001b[0mc5\u001b[0m\u001b[0;34m,\u001b[0m\u001b[0mc6\u001b[0m\u001b[0;34m,\u001b[0m\u001b[0mc7\u001b[0m\u001b[0;34m,\u001b[0m\u001b[0mc8\u001b[0m\u001b[0;34m)\u001b[0m\u001b[0;34m:\u001b[0m\u001b[0;34m\u001b[0m\u001b[0;34m\u001b[0m\u001b[0m\n",
      "\u001b[0;32m~/opt/anaconda3/lib/python3.7/site-packages/torch/nn/modules/module.py\u001b[0m in \u001b[0;36m__call__\u001b[0;34m(self, *input, **kwargs)\u001b[0m\n\u001b[1;32m    530\u001b[0m             \u001b[0mresult\u001b[0m \u001b[0;34m=\u001b[0m \u001b[0mself\u001b[0m\u001b[0;34m.\u001b[0m\u001b[0m_slow_forward\u001b[0m\u001b[0;34m(\u001b[0m\u001b[0;34m*\u001b[0m\u001b[0minput\u001b[0m\u001b[0;34m,\u001b[0m \u001b[0;34m**\u001b[0m\u001b[0mkwargs\u001b[0m\u001b[0;34m)\u001b[0m\u001b[0;34m\u001b[0m\u001b[0;34m\u001b[0m\u001b[0m\n\u001b[1;32m    531\u001b[0m         \u001b[0;32melse\u001b[0m\u001b[0;34m:\u001b[0m\u001b[0;34m\u001b[0m\u001b[0;34m\u001b[0m\u001b[0m\n\u001b[0;32m--> 532\u001b[0;31m             \u001b[0mresult\u001b[0m \u001b[0;34m=\u001b[0m \u001b[0mself\u001b[0m\u001b[0;34m.\u001b[0m\u001b[0mforward\u001b[0m\u001b[0;34m(\u001b[0m\u001b[0;34m*\u001b[0m\u001b[0minput\u001b[0m\u001b[0;34m,\u001b[0m \u001b[0;34m**\u001b[0m\u001b[0mkwargs\u001b[0m\u001b[0;34m)\u001b[0m\u001b[0;34m\u001b[0m\u001b[0;34m\u001b[0m\u001b[0m\n\u001b[0m\u001b[1;32m    533\u001b[0m         \u001b[0;32mfor\u001b[0m \u001b[0mhook\u001b[0m \u001b[0;32min\u001b[0m \u001b[0mself\u001b[0m\u001b[0;34m.\u001b[0m\u001b[0m_forward_hooks\u001b[0m\u001b[0;34m.\u001b[0m\u001b[0mvalues\u001b[0m\u001b[0;34m(\u001b[0m\u001b[0;34m)\u001b[0m\u001b[0;34m:\u001b[0m\u001b[0;34m\u001b[0m\u001b[0;34m\u001b[0m\u001b[0m\n\u001b[1;32m    534\u001b[0m             \u001b[0mhook_result\u001b[0m \u001b[0;34m=\u001b[0m \u001b[0mhook\u001b[0m\u001b[0;34m(\u001b[0m\u001b[0mself\u001b[0m\u001b[0;34m,\u001b[0m \u001b[0minput\u001b[0m\u001b[0;34m,\u001b[0m \u001b[0mresult\u001b[0m\u001b[0;34m)\u001b[0m\u001b[0;34m\u001b[0m\u001b[0;34m\u001b[0m\u001b[0m\n",
      "\u001b[0;32m/Volumes/One Touch/ROctNet/ROctNet-v11/ROctNetmodel_32.py\u001b[0m in \u001b[0;36mforward\u001b[0;34m(self, box_input)\u001b[0m\n\u001b[1;32m    126\u001b[0m \u001b[0;31m#         #print(box_input)\u001b[0m\u001b[0;34m\u001b[0m\u001b[0;34m\u001b[0m\u001b[0;34m\u001b[0m\u001b[0m\n\u001b[1;32m    127\u001b[0m \u001b[0;31m#         #print(torch.zeros(box_input.size()[0],self.feature_size))\u001b[0m\u001b[0;34m\u001b[0m\u001b[0;34m\u001b[0m\u001b[0;34m\u001b[0m\u001b[0m\n\u001b[0;32m--> 128\u001b[0;31m         \u001b[0;32mreturn\u001b[0m \u001b[0mVariable\u001b[0m\u001b[0;34m(\u001b[0m\u001b[0mtorch\u001b[0m\u001b[0;34m.\u001b[0m\u001b[0mzeros\u001b[0m\u001b[0;34m(\u001b[0m\u001b[0mbox_input\u001b[0m\u001b[0;34m.\u001b[0m\u001b[0msize\u001b[0m\u001b[0;34m(\u001b[0m\u001b[0;34m)\u001b[0m\u001b[0;34m[\u001b[0m\u001b[0;36m0\u001b[0m\u001b[0;34m]\u001b[0m\u001b[0;34m,\u001b[0m\u001b[0;36m64\u001b[0m\u001b[0;34m,\u001b[0m\u001b[0;36m4\u001b[0m\u001b[0;34m,\u001b[0m\u001b[0;36m4\u001b[0m\u001b[0;34m,\u001b[0m\u001b[0;36m4\u001b[0m\u001b[0;34m)\u001b[0m\u001b[0;34m.\u001b[0m\u001b[0mcuda\u001b[0m\u001b[0;34m(\u001b[0m\u001b[0;34m)\u001b[0m\u001b[0;34m)\u001b[0m\u001b[0;34m\u001b[0m\u001b[0;34m\u001b[0m\u001b[0m\n\u001b[0m\u001b[1;32m    129\u001b[0m \u001b[0;34m\u001b[0m\u001b[0m\n\u001b[1;32m    130\u001b[0m \u001b[0;32mclass\u001b[0m \u001b[0mAdjEncoder\u001b[0m\u001b[0;34m(\u001b[0m\u001b[0mnn\u001b[0m\u001b[0;34m.\u001b[0m\u001b[0mModule\u001b[0m\u001b[0;34m)\u001b[0m\u001b[0;34m:\u001b[0m\u001b[0;34m\u001b[0m\u001b[0;34m\u001b[0m\u001b[0m\n",
      "\u001b[0;32m~/opt/anaconda3/lib/python3.7/site-packages/torch/cuda/__init__.py\u001b[0m in \u001b[0;36m_lazy_init\u001b[0;34m()\u001b[0m\n\u001b[1;32m    194\u001b[0m             raise RuntimeError(\n\u001b[1;32m    195\u001b[0m                 \"Cannot re-initialize CUDA in forked subprocess. \" + msg)\n\u001b[0;32m--> 196\u001b[0;31m         \u001b[0m_check_driver\u001b[0m\u001b[0;34m(\u001b[0m\u001b[0;34m)\u001b[0m\u001b[0;34m\u001b[0m\u001b[0;34m\u001b[0m\u001b[0m\n\u001b[0m\u001b[1;32m    197\u001b[0m         \u001b[0mtorch\u001b[0m\u001b[0;34m.\u001b[0m\u001b[0m_C\u001b[0m\u001b[0;34m.\u001b[0m\u001b[0m_cuda_init\u001b[0m\u001b[0;34m(\u001b[0m\u001b[0;34m)\u001b[0m\u001b[0;34m\u001b[0m\u001b[0;34m\u001b[0m\u001b[0m\n\u001b[1;32m    198\u001b[0m         \u001b[0m_cudart\u001b[0m \u001b[0;34m=\u001b[0m \u001b[0m_load_cudart\u001b[0m\u001b[0;34m(\u001b[0m\u001b[0;34m)\u001b[0m\u001b[0;34m\u001b[0m\u001b[0;34m\u001b[0m\u001b[0m\n",
      "\u001b[0;32m~/opt/anaconda3/lib/python3.7/site-packages/torch/cuda/__init__.py\u001b[0m in \u001b[0;36m_check_driver\u001b[0;34m()\u001b[0m\n\u001b[1;32m     92\u001b[0m \u001b[0;32mdef\u001b[0m \u001b[0m_check_driver\u001b[0m\u001b[0;34m(\u001b[0m\u001b[0;34m)\u001b[0m\u001b[0;34m:\u001b[0m\u001b[0;34m\u001b[0m\u001b[0;34m\u001b[0m\u001b[0m\n\u001b[1;32m     93\u001b[0m     \u001b[0;32mif\u001b[0m \u001b[0;32mnot\u001b[0m \u001b[0mhasattr\u001b[0m\u001b[0;34m(\u001b[0m\u001b[0mtorch\u001b[0m\u001b[0;34m.\u001b[0m\u001b[0m_C\u001b[0m\u001b[0;34m,\u001b[0m \u001b[0;34m'_cuda_isDriverSufficient'\u001b[0m\u001b[0;34m)\u001b[0m\u001b[0;34m:\u001b[0m\u001b[0;34m\u001b[0m\u001b[0;34m\u001b[0m\u001b[0m\n\u001b[0;32m---> 94\u001b[0;31m         \u001b[0;32mraise\u001b[0m \u001b[0mAssertionError\u001b[0m\u001b[0;34m(\u001b[0m\u001b[0;34m\"Torch not compiled with CUDA enabled\"\u001b[0m\u001b[0;34m)\u001b[0m\u001b[0;34m\u001b[0m\u001b[0;34m\u001b[0m\u001b[0m\n\u001b[0m\u001b[1;32m     95\u001b[0m     \u001b[0;32mif\u001b[0m \u001b[0;32mnot\u001b[0m \u001b[0mtorch\u001b[0m\u001b[0;34m.\u001b[0m\u001b[0m_C\u001b[0m\u001b[0;34m.\u001b[0m\u001b[0m_cuda_isDriverSufficient\u001b[0m\u001b[0;34m(\u001b[0m\u001b[0;34m)\u001b[0m\u001b[0;34m:\u001b[0m\u001b[0;34m\u001b[0m\u001b[0;34m\u001b[0m\u001b[0m\n\u001b[1;32m     96\u001b[0m         \u001b[0;32mif\u001b[0m \u001b[0mtorch\u001b[0m\u001b[0;34m.\u001b[0m\u001b[0m_C\u001b[0m\u001b[0;34m.\u001b[0m\u001b[0m_cuda_getDriverVersion\u001b[0m\u001b[0;34m(\u001b[0m\u001b[0;34m)\u001b[0m \u001b[0;34m==\u001b[0m \u001b[0;36m0\u001b[0m\u001b[0;34m:\u001b[0m\u001b[0;34m\u001b[0m\u001b[0;34m\u001b[0m\u001b[0m\n",
      "\u001b[0;31mAssertionError\u001b[0m: Torch not compiled with CUDA enabled"
     ]
    },
    {
     "data": {
      "image/png": "[encoded data removed]",
      "text/plain": [
       "<Figure size 432x288 with 1 Axes>"
      ]
     },
     "metadata": {
      "needs_background": "light"
     },
     "output_type": "display_data"
    }
   ],
   "source": [
    "print(\"Start training ...... \")\n",
    "\n",
    "if config.save_log:\n",
    "    fd_log = open('training_log.log', mode='a')\n",
    "    fd_log.write('\\n\\nTraining log at '+datetime.now().strftime('%Y-%m-%d %H:%M:%S'))\n",
    "    fd_log.write('\\n#epoch: {}'.format(config.epochs))\n",
    "    fd_log.write('\\nbatch_size: {}'.format(config.batch_size))\n",
    "    fd_log.write('\\ncuda: {}'.format(config.cuda))\n",
    "    fd_log.flush()\n",
    "\n",
    "header = '     Time    Epoch   Chunk  Iteration    Progress(%)  ReconLoss LabelLoss TotalLoss'\n",
    "log_template = ' '.join('{:>9s},{:>5.0f}/{:<5.0f},,{:>5.0f}/{:<5.0f},{:>5.0f}/{:<5.0f},{:>9.1f}%,{:>11.2f},{:>11.2f},{:>10.2f}'.split(','))\n",
    "\n",
    "total_iter = config.epochs * math.ceil(n_samples/config.batch_size) \n",
    "\n",
    "if not config.no_plot:\n",
    "    plot_x = [x for x in range(total_iter)]\n",
    "    plot_total_loss = [None for x in range(total_iter)]\n",
    "    plot_recon_loss = [None for x in range(total_iter)]\n",
    "    plot_label_loss = [None for x in range(total_iter)]\n",
    "    dyn_plot = DynamicPlot(title='Training loss over epochs (ROctNet)', xdata=plot_x, ydata={'Total_loss':plot_total_loss, 'Reconstruction_loss':plot_recon_loss,'Label_loss':plot_label_loss})\n",
    "    iter_id = 0\n",
    "    max_loss = 0\n",
    "    min_loss = 0\n",
    "\n",
    "start = time.time()\n",
    "\n",
    "flag = True\n",
    "\n",
    "for epoch in range(config.epochs):\n",
    "\n",
    "    print(header)\n",
    "    for base in range(1,1+n_samples,incre):\n",
    "    \n",
    "        if incre < n_samples or flag:\n",
    "            flag = False\n",
    "            #print(\"Loading data ...... \"+str(base), end='', flush=True)\n",
    "            roct_data = ROctDataset('data/train_1', base, incre)\n",
    "            train_iter = torch.utils.data.DataLoader(roct_data, batch_size=config.batch_size, shuffle=True, collate_fn=my_collate)\n",
    "            #valid_iter = torch.utils.data.DataLoader(valid_data, batch_size=200, shuffle=True, collate_fn=my_collate)\n",
    "            #print(\"DONE\")\n",
    "\n",
    "        for batch_idx, batch in enumerate(train_iter):\n",
    "            # Initialize torchfold for *encoding*\n",
    "            enc_fold = FoldExt(cuda=config.cuda)\n",
    "            enc_fold_nodes = []     # list of fold nodes for encoding\n",
    "            # Collect computation nodes recursively from encoding process\n",
    "            for example in batch:\n",
    "                enc_fold_nodes.append(ROctNetmodel_32.encode_structure_fold(enc_fold, example))\n",
    "\n",
    "            # Apply the computations on the encoder model\n",
    "            #set_trace()\n",
    "            enc_fold_nodes = enc_fold.apply(encoder, [enc_fold_nodes])\n",
    "\n",
    "            # Split into a list of fold nodes per example\n",
    "            enc_fold_nodes = torch.split(enc_fold_nodes[0], 1, 0)\n",
    "            # Initialize torchfold for *decoding*\n",
    "            dec_fold = FoldExt(cuda=config.cuda)\n",
    "            # Collect computation nodes recursively from decoding process\n",
    "            dec_fold_nodes = []\n",
    "            for example, fnode in zip(batch, enc_fold_nodes):\n",
    "                root_code = fnode\n",
    "                dec_fold_nodes.append(ROctNetmodel_32.decode_structure_fold(dec_fold, root_code, example))\n",
    "                #if epoch==config.epochs-1:\n",
    "                    #sample_codes_all.append(root_code)\n",
    "                    #print(\"finished!!!\")\n",
    "\n",
    "            # Apply the computations on the decoder model\n",
    "            dec_fold_nodes1,dec_fold_nodes2 = map(list, zip(*dec_fold_nodes))\n",
    "\n",
    "            recon_loss = dec_fold.apply(decoder, [dec_fold_nodes1])\n",
    "            label_loss = dec_fold.apply(decoder, [dec_fold_nodes2])\n",
    "\n",
    "            #set_trace()\n",
    "                # the first dim of total_loss is for reconstruction and the second for KL divergence\n",
    "            recon_loss = recon_loss[0].sum() / len(batch)               # avg. reconstruction loss per example\n",
    "            label_loss = label_loss[0].sum() / len(batch)\n",
    "            total_loss = recon_loss + label_loss\n",
    "            #set_trace()\n",
    "\n",
    "            if total_loss.data.cpu().numpy() < 500:\n",
    "                for param_group in encoder_opt.param_groups:\n",
    "                    param_group['lr'] = 1e-4\n",
    "                for param_group in decoder_opt.param_groups:\n",
    "                    param_group['lr'] = 1e-4\n",
    "\n",
    "\n",
    "            # Do parameter optimization\n",
    "            encoder_opt.zero_grad()\n",
    "            decoder_opt.zero_grad()\n",
    "            total_loss.backward()\n",
    "            encoder_opt.step()\n",
    "            decoder_opt.step()\n",
    "\n",
    "            # Report statistics\n",
    "            if batch_idx % config.show_log_every == 0:\n",
    "                print(log_template.format(strftime(\"%H:%M:%S\",time.gmtime(time.time()-start)),\n",
    "                    epoch, config.epochs, math.ceil(base/incre) , math.ceil(n_samples/incre) ,1+batch_idx, len(train_iter),\n",
    "                    100. * (1+batch_idx+len(train_iter)*epoch) / (len(train_iter)*config.epochs),\n",
    "                    recon_loss.data[0], label_loss.data[0], total_loss.data[0]))\n",
    "            # Plot losses\n",
    "            if not config.no_plot and epoch>=0:\n",
    "                plot_total_loss[iter_id] = total_loss.data[0]\n",
    "                plot_recon_loss[iter_id] = recon_loss.data[0]\n",
    "                plot_label_loss[iter_id] = label_loss.data[0]\n",
    "                max_loss = max(max_loss, total_loss.data[0], recon_loss.data[0], label_loss.data[0])\n",
    "                min_loss = min(min_loss, total_loss.data[0], recon_loss.data[0], label_loss.data[0])\n",
    "                dyn_plot.setxlim(0., (iter_id+1)*1.05)\n",
    "                dyn_plot.setylim(min_loss*1.05, max_loss*1.05)\n",
    "                dyn_plot.update_plots(ydata={'Total_loss':plot_total_loss, 'Reconstruction_loss':plot_recon_loss,  'Label_loss':plot_label_loss})\n",
    "                iter_id += 1\n",
    "\n",
    "        # Save snapshots of the models being trained\n",
    "        if config.save_snapshot and (epoch+1) % config.save_snapshot_every == 0 :\n",
    "            print(\"Saving snapshots of the models ...... \", end='', flush=True)\n",
    "            torch.save(encoder, 'snapshots/vae_encoder_model_epoch_{}_loss_{:.2f}.pkl'.format(epoch+1, total_loss.data[0]))\n",
    "            torch.save(decoder, 'snapshots/vae_decoder_model_epoch_{}_loss_{:.2f}.pkl'.format(epoch+1, total_loss.data[0]))\n",
    "            print(\"DONE\")\n",
    "        # Save training log\n",
    "        if config.save_log and (epoch+1) % config.save_log_every == 0 : \n",
    "            fd_log = open('training_log.log', mode='a')\n",
    "            fd_log.write('\\nepoch:{} recon_loss:{:.2f} kld_loss:{:.2f} total_loss:{:.2f}'.format(epoch+1, recon_loss.data[0], kldiv_loss.data[0], total_loss.data[0]))\n",
    "            fd_log.close()"
   ]
  },
  {
   "cell_type": "code",
   "execution_count": null,
   "metadata": {},
   "outputs": [],
   "source": [
    "# Save the final models\n",
    "print(\"Saving final models ...... \", end='', flush=True)\n",
    "torch.save(encoder, 'models/ae_encoder_plane_128_32.pkl')\n",
    "torch.save(decoder, 'models/ae_decoder_plane_128_32.pkl')\n",
    "print(\"DONE\")"
   ]
  },
  {
   "cell_type": "code",
   "execution_count": null,
   "metadata": {},
   "outputs": [],
   "source": [
    "from torch.autograd import Variable\n",
    "def encode_structure(model, tree):\n",
    "    \"\"\"\n",
    "    Encode a tree into a code\n",
    "    \"\"\"\n",
    "    def encode_node(node,l):\n",
    "        if node.is_leaf():\n",
    "            if not node.is_empty_leaf():\n",
    "                return model.boxEncoder(Variable(node.fea.cuda()))\n",
    "            else:\n",
    "                return model.boxEncoder2(Variable(node.fea.cuda()))\n",
    "        elif node.is_expand():\n",
    "            child = []\n",
    "            for i in range(8):\n",
    "                child.append(encode_node(node.child[i],l+1))\n",
    "            mycode = 'model.adjEncoder'+str(l)+'(child[0], child[1],child[2],child[3],child[4],child[5],child[6],child[7])'\n",
    "            return eval(mycode)\n",
    "\n",
    "    encoding = encode_node(tree.root,1)\n",
    "    root_code = model.sampleEncoder(encoding)\n",
    "\n",
    "    return root_code"
   ]
  },
  {
   "cell_type": "code",
   "execution_count": null,
   "metadata": {},
   "outputs": [],
   "source": [
    "from torch.autograd import Variable\n",
    "def decode_structure(model, root_code):\n",
    "    \"\"\"\n",
    "    Decode a root code into boxes\n",
    "    \"\"\"\n",
    "    decode = model.sampleDecoder(root_code)\n",
    "    stack = [decode]\n",
    "    boxes = []\n",
    "    ops = []\n",
    "    depth = [1]\n",
    "\n",
    "    while len(stack) > 0:\n",
    "        f = stack.pop()\n",
    "        d = depth.pop()\n",
    "        label_prob = model.nodeClassifier(f)\n",
    "        _, label = torch.max(label_prob,1)\n",
    "        label = label.data.cpu().numpy()\n",
    "#         print(label)\n",
    "#         print(label_prob)\n",
    "        ops.append(label)\n",
    "        \n",
    "        if label == 3: # NON-LEAF\n",
    "            mycode = 'model.adjDecoder'+str(d)+'(f)'\n",
    "            child_feature1,child_feature2,child_feature3,child_feature4,child_feature5,child_feature6,child_feature7,child_feature8 = eval(mycode) \n",
    "            #print('non-leaf')               \n",
    "            \n",
    "            stack.append(child_feature8)\n",
    "            stack.append(child_feature7)\n",
    "            stack.append(child_feature6)\n",
    "            stack.append(child_feature5)\n",
    "            stack.append(child_feature4)\n",
    "            stack.append(child_feature3)\n",
    "            stack.append(child_feature2)\n",
    "            stack.append(child_feature1)\n",
    "            \n",
    "            for i in range(8):\n",
    "                depth.append(d+1)\n",
    "\n",
    "                \n",
    "        else:  # LEAF\n",
    "            #print('leaf')\n",
    "            reBox = model.boxDecoder(f)\n",
    "            reBoxes = [reBox]\n",
    "            boxes.extend(reBox)\n",
    "\n",
    "    return boxes, ops"
   ]
  },
  {
   "cell_type": "code",
   "execution_count": null,
   "metadata": {},
   "outputs": [],
   "source": [
    "def decode_structure2(model, root_code, tree):\n",
    "    \"\"\"\n",
    "    Decode a root code into boxes\n",
    "    \"\"\"\n",
    "    decode = model.sampleDecoder(root_code)\n",
    "    stack = [decode]\n",
    "    boxes = []\n",
    "    ops = []\n",
    "    depth = [tree.root]\n",
    "    depth2 = [1]\n",
    "    \n",
    "    while len(stack) > 0:\n",
    "        f = stack.pop()\n",
    "        d = depth.pop()\n",
    "        d2 = depth2.pop()\n",
    "  \n",
    "        ops.append(d.label.cpu().numpy())\n",
    "    \n",
    "        if d.is_expand():  # NON-LEAF\n",
    "            mycode = 'model.adjDecoder'+str(d2)+'(f)'\n",
    "            child_feature1,child_feature2,child_feature3,child_feature4,child_feature5,child_feature6,child_feature7,child_feature8 = eval(mycode) \n",
    "            #print('non-leaf')          \n",
    "            #print('non-leaf')\n",
    "            stack.append(child_feature8)\n",
    "            stack.append(child_feature7)\n",
    "            stack.append(child_feature6)\n",
    "            stack.append(child_feature5)\n",
    "            stack.append(child_feature4)\n",
    "            stack.append(child_feature3)\n",
    "            stack.append(child_feature2)\n",
    "            stack.append(child_feature1)\n",
    "\n",
    "            for i in range(7,-1,-1):\n",
    "                depth.append(d.child[i])\n",
    "            \n",
    "            for i in range(8):\n",
    "                depth2.append(d2+1)\n",
    "\n",
    "                \n",
    "        else:  # LEAF\n",
    "            #print('leaf')\n",
    "            reBox = model.boxDecoder(f)\n",
    "            reBoxes = [reBox]\n",
    "            boxes.extend(reBox)\n",
    "\n",
    "    return boxes, ops"
   ]
  },
  {
   "cell_type": "code",
   "execution_count": null,
   "metadata": {
    "scrolled": true
   },
   "outputs": [],
   "source": [
    "#train samples reconstruction\n",
    "encoder = encoder.eval()\n",
    "decoder = decoder.eval()\n",
    "\n",
    "import scipy.io as sio\n",
    "recons_all = []\n",
    "ops_all = []\n",
    "for i in range(0,24):\n",
    "    code = encode_structure(encoder, roct_data.trees[i])\n",
    "    recons,ops = decode_structure(decoder, code)\n",
    "    recons_all.append(torch.cat(recons,0).data.cpu().numpy()>0.5)\n",
    "    ops_all.append(ops)\n",
    "    print(i)\n",
    "#     print(recons)\n",
    "    \n",
    "sio.savemat('data/reconstructed.mat', {'recons_all':recons_all, 'ops_all':ops_all},do_compression=True)"
   ]
  },
  {
   "cell_type": "code",
   "execution_count": null,
   "metadata": {},
   "outputs": [],
   "source": [
    "#train samples reconstruction with GT octree structure\n",
    "encoder = encoder.eval()\n",
    "decoder = decoder.eval()\n",
    "import scipy.io as sio\n",
    "recons_all = []\n",
    "ops_all = []\n",
    "for i in range(2):\n",
    "    code = encode_structure(encoder, roct_data.trees[i])\n",
    "    recons,ops = decode_structure2(decoder, code, roct_data.trees[i])\n",
    "    recons_all.append(torch.cat(recons,0).data.cpu().numpy())\n",
    "    ops_all.append(ops)\n",
    "    print(i)\n",
    "#     print(recons)\n",
    "    \n",
    "sio.savemat('data/reconstructed.mat', {'recons_all':recons_all, 'ops_all':ops_all})"
   ]
  },
  {
   "cell_type": "code",
   "execution_count": null,
   "metadata": {},
   "outputs": [],
   "source": [
    "print(recons_all[0].shape)"
   ]
  },
  {
   "cell_type": "code",
   "execution_count": null,
   "metadata": {},
   "outputs": [],
   "source": [
    "print(len(ops_all[0]))"
   ]
  },
  {
   "cell_type": "code",
   "execution_count": null,
   "metadata": {},
   "outputs": [],
   "source": [
    "print(recons_all[0].max())"
   ]
  },
  {
   "cell_type": "code",
   "execution_count": null,
   "metadata": {},
   "outputs": [],
   "source": [
    "#morphing\n",
    "encoder = encoder.eval()\n",
    "decoder = decoder.eval()\n",
    "\n",
    "import scipy.io as sio\n",
    "import numpy\n",
    "recons_all = []\n",
    "ops_all = []\n",
    "for i in numpy.arange(0,1,0.1):\n",
    "    code1 = encode_structure(encoder, roct_data.trees[0*12])\n",
    "    code2 = encode_structure(encoder, roct_data.trees[1*12])\n",
    "    code = code1.mul(i) + code2.mul(1-i)\n",
    "    recons,ops = decode_structure(decoder, code)\n",
    "    recons_all.append(torch.cat(recons,0).data.cpu().numpy()>0.5)\n",
    "    ops_all.append(ops)\n",
    "    print(i)\n",
    "#     print(recons)\n",
    "    \n",
    "sio.savemat('data/morphing.mat', {'morphing_all':recons_all, 'morphing_ops_all':ops_all},do_compression=True)"
   ]
  },
  {
   "cell_type": "code",
   "execution_count": null,
   "metadata": {},
   "outputs": [],
   "source": [
    "#read test samples\n",
    "test_data = ROctDataset('/data/juncheng/shapenetcorev2/airplane/128_32_vox/shuffled_test_1',1 , 809)\n",
    "#roct_data.trees = roct_data.trees[0:-1:12]\n",
    "print(\"DONE\")\n",
    "\n",
    "len(test_data.trees)"
   ]
  },
  {
   "cell_type": "code",
   "execution_count": null,
   "metadata": {
    "scrolled": true
   },
   "outputs": [],
   "source": [
    "#test samples reconstruction\n",
    "encoder = encoder.eval()\n",
    "decoder = decoder.eval()\n",
    "\n",
    "import scipy.io as sio\n",
    "recons_all = []\n",
    "ops_all = []\n",
    "for i in range(len(test_data.trees)): #len(test_data.trees)\n",
    "    code = encode_structure(encoder, test_data.trees[i])\n",
    "    recons,ops = decode_structure(decoder, code)\n",
    "    recons_all.append(torch.cat(recons,0).data.cpu().numpy()>=0.5)\n",
    "    ops_all.append(ops)\n",
    "    print(i)\n",
    "#     print(recons)\n",
    "    \n",
    "sio.savemat('data/test_reconstructed.mat', {'recons_all':recons_all, 'ops_all':ops_all},do_compression=True)"
   ]
  },
  {
   "cell_type": "code",
   "execution_count": 3,
   "metadata": {},
   "outputs": [
    {
     "name": "stdout",
     "output_type": "stream",
     "text": [
      "2.8032913208007812M\n",
      "3.3380651473999023M\n"
     ]
    }
   ],
   "source": [
    "def count_parameters(model):\n",
    "    return sum(p.numel() for p in model.parameters() if p.requires_grad)\n",
    "print(str(count_parameters(encoder)/1024/1024)+'M')\n",
    "print(str(count_parameters(decoder)/1024/1024)+'M')"
   ]
  },
  {
   "cell_type": "code",
   "execution_count": null,
   "metadata": {},
   "outputs": [],
   "source": []
  }
 ],
 "metadata": {
  "kernelspec": {
   "display_name": "Python 3",
   "language": "python",
   "name": "python3"
  },
  "language_info": {
   "codemirror_mode": {
    "name": "ipython",
    "version": 3
   },
   "file_extension": ".py",
   "mimetype": "text/x-python",
   "name": "python",
   "nbconvert_exporter": "python",
   "pygments_lexer": "ipython3",
   "version": "3.7.6"
  },
  "varInspector": {
   "cols": {
    "lenName": 16,
    "lenType": 16,
    "lenVar": 40
   },
   "kernels_config": {
    "python": {
     "delete_cmd_postfix": "",
     "delete_cmd_prefix": "del ",
     "library": "var_list.py",
     "varRefreshCmd": "print(var_dic_list())"
    },
    "r": {
     "delete_cmd_postfix": ") ",
     "delete_cmd_prefix": "rm(",
     "library": "var_list.r",
     "varRefreshCmd": "cat(var_dic_list()) "
    }
   },
   "types_to_exclude": [
    "module",
    "function",
    "builtin_function_or_method",
    "instance",
    "_Feature"
   ],
   "window_display": false
  }
 },
 "nbformat": 4,
 "nbformat_minor": 2
}
